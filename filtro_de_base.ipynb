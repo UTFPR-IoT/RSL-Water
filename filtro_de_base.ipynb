{
  "nbformat": 4,
  "nbformat_minor": 0,
  "metadata": {
    "colab": {
      "provenance": []
    },
    "kernelspec": {
      "name": "python3",
      "display_name": "Python 3"
    },
    "language_info": {
      "name": "python"
    }
  },
  "cells": [
    {
      "cell_type": "code",
      "source": [
        "!pip install pybtex\n",
        "!pip install --upgrade xlrd"
      ],
      "metadata": {
        "colab": {
          "base_uri": "https://localhost:8080/"
        },
        "id": "IWge2wdctlAc",
        "outputId": "ea3cceae-9fea-4b2a-c524-daaa52dafdd4"
      },
      "execution_count": null,
      "outputs": [
        {
          "output_type": "stream",
          "name": "stdout",
          "text": [
            "Looking in indexes: https://pypi.org/simple, https://us-python.pkg.dev/colab-wheels/public/simple/\n",
            "Collecting pybtex\n",
            "  Downloading pybtex-0.24.0-py2.py3-none-any.whl (561 kB)\n",
            "\u001b[2K     \u001b[90m━━━━━━━━━━━━━━━━━━━━━━━━━━━━━━━━━━━━━━━\u001b[0m \u001b[32m561.4/561.4 KB\u001b[0m \u001b[31m5.0 MB/s\u001b[0m eta \u001b[36m0:00:00\u001b[0m\n",
            "\u001b[?25hRequirement already satisfied: PyYAML>=3.01 in /usr/local/lib/python3.8/dist-packages (from pybtex) (6.0)\n",
            "Collecting latexcodec>=1.0.4\n",
            "  Downloading latexcodec-2.0.1-py2.py3-none-any.whl (18 kB)\n",
            "Requirement already satisfied: six in /usr/local/lib/python3.8/dist-packages (from pybtex) (1.15.0)\n",
            "Installing collected packages: latexcodec, pybtex\n",
            "Successfully installed latexcodec-2.0.1 pybtex-0.24.0\n",
            "Looking in indexes: https://pypi.org/simple, https://us-python.pkg.dev/colab-wheels/public/simple/\n",
            "Requirement already satisfied: xlrd in /usr/local/lib/python3.8/dist-packages (1.2.0)\n",
            "Collecting xlrd\n",
            "  Downloading xlrd-2.0.1-py2.py3-none-any.whl (96 kB)\n",
            "\u001b[2K     \u001b[90m━━━━━━━━━━━━━━━━━━━━━━━━━━━━━━━━━━━━━━━━\u001b[0m \u001b[32m96.5/96.5 KB\u001b[0m \u001b[31m3.0 MB/s\u001b[0m eta \u001b[36m0:00:00\u001b[0m\n",
            "\u001b[?25hInstalling collected packages: xlrd\n",
            "  Attempting uninstall: xlrd\n",
            "    Found existing installation: xlrd 1.2.0\n",
            "    Uninstalling xlrd-1.2.0:\n",
            "      Successfully uninstalled xlrd-1.2.0\n",
            "Successfully installed xlrd-2.0.1\n"
          ]
        }
      ]
    },
    {
      "cell_type": "code",
      "execution_count": null,
      "metadata": {
        "id": "RtTIo6TYsdfK"
      },
      "outputs": [],
      "source": [
        "import pandas as pd\n",
        "import numpy as np\n",
        "import json, requests\n",
        "from bs4 import BeautifulSoup\n",
        "from multiprocessing import  Pool\n",
        "#from pybtex.database.input import bibtex"
      ]
    },
    {
      "cell_type": "code",
      "source": [
        "drive_base = \"/content/drive/MyDrive/Colab Notebooks/RSL/\" "
      ],
      "metadata": {
        "id": "yOY1yO6eVf1X"
      },
      "execution_count": null,
      "outputs": []
    },
    {
      "cell_type": "code",
      "source": [
        "df_springer_Chapter1 = pd.read_csv(f\"{drive_base}BibTeX/Springer Link/csv2/Chapter1.csv\")\n",
        "df_springer_Chapter2 = pd.read_csv(f\"{drive_base}BibTeX/Springer Link/csv2/Chapter2.csv\")\n",
        "df_springer_Paper = pd.read_csv(f\"{drive_base}BibTeX/Springer Link/csv2/Conference Paper.csv\")\n",
        "df_springer_article = pd.read_csv(f\"{drive_base}BibTeX/Springer Link/csv2/article.csv\")\n",
        "\n"
      ],
      "metadata": {
        "id": "UpYvGic-u0Xn"
      },
      "execution_count": null,
      "outputs": []
    },
    {
      "cell_type": "code",
      "source": [
        "df_springer = pd.concat([df_springer_Chapter1, df_springer_Chapter2, df_springer_Paper, df_springer_article])"
      ],
      "metadata": {
        "id": "Dv2PEx_c0BBn"
      },
      "execution_count": null,
      "outputs": []
    },
    {
      "cell_type": "code",
      "source": [
        "\n",
        "len(df_springer.index)"
      ],
      "metadata": {
        "colab": {
          "base_uri": "https://localhost:8080/"
        },
        "id": "dDWWES3TMiGm",
        "outputId": "632591cb-ef92-4fc2-c17f-38078e87d25a"
      },
      "execution_count": null,
      "outputs": [
        {
          "output_type": "execute_result",
          "data": {
            "text/plain": [
              "2928"
            ]
          },
          "metadata": {},
          "execution_count": 9
        }
      ]
    },
    {
      "cell_type": "code",
      "source": [
        "df_springer.columns.values"
      ],
      "metadata": {
        "colab": {
          "base_uri": "https://localhost:8080/"
        },
        "id": "DrzbVGwCGYDC",
        "outputId": "d1abd7f3-45bb-4f13-d40c-22aa64c65bcb"
      },
      "execution_count": null,
      "outputs": [
        {
          "output_type": "execute_result",
          "data": {
            "text/plain": [
              "array(['Item Title', 'Publication Title', 'Book Series Title',\n",
              "       'Journal Volume', 'Journal Issue', 'Item DOI', 'Authors',\n",
              "       'Publication Year', 'URL', 'Content Type'], dtype=object)"
            ]
          },
          "metadata": {},
          "execution_count": 265
        }
      ]
    },
    {
      "cell_type": "code",
      "source": [
        "def getAbstractByURLSpring(url):\n",
        "  #url = \"https://link.springer.com/article/\" + itemDOI\n",
        "\n",
        "  res = requests.get(url)\n",
        "\n",
        "  soup = BeautifulSoup(res.text, 'html')\n",
        "\n",
        "  abstract = soup.find('div', {\"id\":\"Abs1-content\"})\n",
        "\n",
        "  if (abstract == None):\n",
        "    print(\"Abstract not found: \" + url)\n",
        "    return np.nan\n",
        "\n",
        "  firstFind = 1\n",
        "  for p_tag in abstract.find_all('h3'):\n",
        "    if firstFind:\n",
        "      p_tag.string = p_tag.string + \"\\n\"\n",
        "      firstFind = 0\n",
        "    else:\n",
        "      p_tag.string = \"\\n\" + p_tag.string + \"\\n\"\n",
        "\n",
        "  keywords = soup.findAll('li', {\"class\": \"c-article-subject-list__subject\"})\n",
        "\n",
        "  keys = \"; \".join(map(str, [keyword.text for keyword in keywords]))\n",
        "\n",
        "\n",
        "  return [abstract.text, keys]"
      ],
      "metadata": {
        "id": "MyThi9zEHLwS"
      },
      "execution_count": null,
      "outputs": []
    },
    {
      "cell_type": "code",
      "source": [
        "def parallelize_dataframe(df, func, n_cores=4):\n",
        "  df_split = np.array_split(df, n_cores)\n",
        "  pool = Pool(n_cores)\n",
        "  df = pd.concat(pool.map(func, df_split))\n",
        "  pool.close()\n",
        "  pool.join()\n",
        "  return df"
      ],
      "metadata": {
        "id": "xIcc-6l5qS_Z"
      },
      "execution_count": null,
      "outputs": []
    },
    {
      "cell_type": "code",
      "source": [
        "def add_features(df):\n",
        "  df[['Abstract','Keywords']]  = df.apply(lambda row: getAbstractByURLSpring(row.URL), axis = 1, result_type='expand')\n",
        "\n",
        "  return df"
      ],
      "metadata": {
        "id": "0OdjuaHvq2po"
      },
      "execution_count": null,
      "outputs": []
    },
    {
      "cell_type": "markdown",
      "source": [
        "Executa função no método normal:"
      ],
      "metadata": {
        "id": "hfmWdtGfxCgM"
      }
    },
    {
      "cell_type": "code",
      "source": [
        "df_springer1 = add_features(df_springer)"
      ],
      "metadata": {
        "id": "auDzYUVwTQcT"
      },
      "execution_count": null,
      "outputs": []
    },
    {
      "cell_type": "markdown",
      "source": [
        "Executa função no método de paralelismo:"
      ],
      "metadata": {
        "id": "cHIh-pYDxGbT"
      }
    },
    {
      "cell_type": "code",
      "source": [
        "df_springer2 = parallelize_dataframe(df_springer, add_features, 8)\n"
      ],
      "metadata": {
        "id": "_JdJln-6gGjY",
        "colab": {
          "base_uri": "https://localhost:8080/"
        },
        "outputId": "ad5be02c-37ed-43e6-c704-025071e5039b"
      },
      "execution_count": null,
      "outputs": [
        {
          "output_type": "stream",
          "name": "stdout",
          "text": [
            "Abstract not found: http://link.springer.com/article/10.1007/s11600-022-00960-y\n",
            "Abstract not found: http://link.springer.com/article/10.1007/s10346-021-01821-3\n",
            "Abstract not found: http://link.springer.com/chapter/10.1007/978-3-319-91146-5_1\n",
            "Abstract not found: http://link.springer.com/article/10.1186/s13756-021-00974-z\n",
            "Abstract not found: http://link.springer.com/article/10.1007/s40860-020-00110-5\n",
            "Abstract not found: http://link.springer.com/article/10.1007/s11307-021-01691-0\n",
            "Abstract not found: http://link.springer.com/article/10.1007/s42524-021-0185-x\n",
            "Abstract not found: http://link.springer.com/chapter/10.1007/978-3-319-92384-0_1\n",
            "Abstract not found: http://link.springer.com/article/10.1007/s00249-019-01373-4\n",
            "Abstract not found: http://link.springer.com/article/10.1007/s11036-022-02014-5\n",
            "Abstract not found: http://link.springer.com/article/10.1007/s12551-021-00845-2\n",
            "Abstract not found: http://link.springer.com/article/10.1007/s13361-019-02232-4\n",
            "Abstract not found: http://link.springer.com/article/10.1007/s11606-020-05890-3\n",
            "Abstract not found: http://link.springer.com/article/10.1007/s12551-021-00844-3\n",
            "Abstract not found: http://link.springer.com/article/10.1007/s10346-021-01680-y\n",
            "Abstract not found: http://link.springer.com/article/10.1007/s11307-021-01694-x\n",
            "Abstract not found: http://link.springer.com/article/10.1186/s13756-019-0567-6\n",
            "Abstract not found: http://link.springer.com/article/10.1007/s10346-020-01363-0\n"
          ]
        }
      ]
    },
    {
      "cell_type": "code",
      "source": [
        "df_springer2"
      ],
      "metadata": {
        "colab": {
          "base_uri": "https://localhost:8080/",
          "height": 850
        },
        "id": "5PAB0MXDb8kk",
        "outputId": "f9fd6984-f241-4e13-a7cc-663539516117"
      },
      "execution_count": null,
      "outputs": [
        {
          "output_type": "execute_result",
          "data": {
            "text/plain": [
              "                                            Item Title  \\\n",
              "0    An Efficient Low-Cost Smart Water Monitoring S...   \n",
              "1    The Internet of Things Based Water Quality Mon...   \n",
              "2    A Cost-Effective Real-Time Monitoring System f...   \n",
              "3    Internet of Things for Water Quality Monitorin...   \n",
              "4      Internet of Things Concept and Its Applications   \n",
              "..                                                 ...   \n",
              "885  Recent developments in MnO2-based photocatalys...   \n",
              "886  RETRACTED ARTICLE: Drought Prediction and Anal...   \n",
              "887  Removal of Pb2+, Cr3+ and Hg2+ ions from aqueo...   \n",
              "888  Development of a three-dimensional geological ...   \n",
              "889  An analytical method for estimating leakage fr...   \n",
              "\n",
              "                                     Publication Title  Book Series Title  \\\n",
              "0    Artificial Intelligence Applications for Smart...                NaN   \n",
              "1      Smart Systems and IoT: Innovations in Computing                NaN   \n",
              "2            Science and Technologies for Smart Cities                NaN   \n",
              "3    Artificial Intelligence for Sustainable Develo...                NaN   \n",
              "4      Smart Sensors for Industrial Internet of Things                NaN   \n",
              "..                                                 ...                ...   \n",
              "885       Environmental Science and Pollution Research                NaN   \n",
              "886         International Journal of Speech Technology                NaN   \n",
              "887          Journal of Sol-Gel Science and Technology                NaN   \n",
              "888                               Hydrogeology Journal                NaN   \n",
              "889                               Hydrogeology Journal                NaN   \n",
              "\n",
              "     Journal Volume Journal Issue                      Item DOI  \\\n",
              "0               NaN           NaN   10.1007/978-3-030-63068-3_3   \n",
              "1               NaN           NaN  10.1007/978-981-13-8406-6_39   \n",
              "2               NaN           NaN  10.1007/978-3-030-51005-3_26   \n",
              "3               NaN           NaN  10.1007/978-3-030-51920-9_13   \n",
              "4               NaN           NaN   10.1007/978-3-030-52624-5_2   \n",
              "..              ...           ...                           ...   \n",
              "885            27.0             6    10.1007/s11356-019-07568-8   \n",
              "886            25.0             3    10.1007/s10772-021-09850-y   \n",
              "887           103.0             1    10.1007/s10971-022-05830-z   \n",
              "888            28.0             3    10.1007/s10040-020-02113-1   \n",
              "889            27.0             1     10.1007/s10040-018-1853-8   \n",
              "\n",
              "                                               Authors  Publication Year  \\\n",
              "0                     S. Abdul RahamanHaitham A. Jamil              2021   \n",
              "1                             Neha DalwadiMamta Padole              2020   \n",
              "2                           Gonçalo MarquesRui Pitarma              2020   \n",
              "3    Joshua O. IghaloAdewale George AdeniyiGoncalo ...              2021   \n",
              "4                       Prashant AhluwaliaNitin Mittal              2021   \n",
              "..                                                 ...               ...   \n",
              "885           Sin-Ling ChiamSwee-Yong PungFei-Yee Yeoh              2020   \n",
              "886                       J. BalajeeM. A. Saleem Durai              2022   \n",
              "887  A. F. P. Allwin Mabes RajSara KrajncMaja Bauma...              2022   \n",
              "888  Richard FortierDavid-Roy BanvilleRichard Léves...              2020   \n",
              "889  Yong HuangHuiyang QiuZhi DouZhimin FuZhifang Zhou              2019   \n",
              "\n",
              "                                                   URL Content Type  \\\n",
              "0    http://link.springer.com/chapter/10.1007/978-3...      Chapter   \n",
              "1    http://link.springer.com/chapter/10.1007/978-9...      Chapter   \n",
              "2    http://link.springer.com/chapter/10.1007/978-3...      Chapter   \n",
              "3    http://link.springer.com/chapter/10.1007/978-3...      Chapter   \n",
              "4    http://link.springer.com/chapter/10.1007/978-3...      Chapter   \n",
              "..                                                 ...          ...   \n",
              "885  http://link.springer.com/article/10.1007/s1135...      Article   \n",
              "886  http://link.springer.com/article/10.1007/s1077...      Article   \n",
              "887  http://link.springer.com/article/10.1007/s1097...      Article   \n",
              "888  http://link.springer.com/article/10.1007/s1004...      Article   \n",
              "889  http://link.springer.com/article/10.1007/s1004...      Article   \n",
              "\n",
              "                                              Abstract  \\\n",
              "0    Water scarcity is a threat to livelihood in th...   \n",
              "1    The accessibility to high-quality water is the...   \n",
              "2    Water is a limited and essential resource to h...   \n",
              "3    The implementation of urbanisation and industr...   \n",
              "4    In the current era of digital communication an...   \n",
              "..                                                 ...   \n",
              "885  The textile industry consumes a large volume o...   \n",
              "886  Understanding and researching water level chan...   \n",
              "887  Herein we present silica (SiO2) and amino-func...   \n",
              "888  Among the few positive impacts of climate warm...   \n",
              "889  An analytical method has been proposed to esti...   \n",
              "\n",
              "                                              keywords  \n",
              "0    Smart water management; IoT-based water monito...  \n",
              "1    Water quality monitoring; Sensors; pH; Turbidi...  \n",
              "2    Agriculture; Enhanced living environments; Int...  \n",
              "3    Actuators; Environment; Internet of things; Se...  \n",
              "4    Internet of Things; Smart grid; Solid waste ma...  \n",
              "..                                                 ...  \n",
              "885  Manganese dioxide (MnO2); Photocatalyst; Organ...  \n",
              "886  Deep Learning; Landsat; Normalized Difference ...  \n",
              "887  Amino functionalized SiO2 particles; Adsorptio...  \n",
              "888  Quaternary deposits; Permafrost; Groundwater e...  \n",
              "889  Analytical solutions; Leakage; Hydraulic press...  \n",
              "\n",
              "[2928 rows x 12 columns]"
            ],
            "text/html": [
              "\n",
              "  <div id=\"df-2652d3e1-f400-4756-a87c-a2a1bb35a6f1\">\n",
              "    <div class=\"colab-df-container\">\n",
              "      <div>\n",
              "<style scoped>\n",
              "    .dataframe tbody tr th:only-of-type {\n",
              "        vertical-align: middle;\n",
              "    }\n",
              "\n",
              "    .dataframe tbody tr th {\n",
              "        vertical-align: top;\n",
              "    }\n",
              "\n",
              "    .dataframe thead th {\n",
              "        text-align: right;\n",
              "    }\n",
              "</style>\n",
              "<table border=\"1\" class=\"dataframe\">\n",
              "  <thead>\n",
              "    <tr style=\"text-align: right;\">\n",
              "      <th></th>\n",
              "      <th>Item Title</th>\n",
              "      <th>Publication Title</th>\n",
              "      <th>Book Series Title</th>\n",
              "      <th>Journal Volume</th>\n",
              "      <th>Journal Issue</th>\n",
              "      <th>Item DOI</th>\n",
              "      <th>Authors</th>\n",
              "      <th>Publication Year</th>\n",
              "      <th>URL</th>\n",
              "      <th>Content Type</th>\n",
              "      <th>Abstract</th>\n",
              "      <th>keywords</th>\n",
              "    </tr>\n",
              "  </thead>\n",
              "  <tbody>\n",
              "    <tr>\n",
              "      <th>0</th>\n",
              "      <td>An Efficient Low-Cost Smart Water Monitoring S...</td>\n",
              "      <td>Artificial Intelligence Applications for Smart...</td>\n",
              "      <td>NaN</td>\n",
              "      <td>NaN</td>\n",
              "      <td>NaN</td>\n",
              "      <td>10.1007/978-3-030-63068-3_3</td>\n",
              "      <td>S. Abdul RahamanHaitham A. Jamil</td>\n",
              "      <td>2021</td>\n",
              "      <td>http://link.springer.com/chapter/10.1007/978-3...</td>\n",
              "      <td>Chapter</td>\n",
              "      <td>Water scarcity is a threat to livelihood in th...</td>\n",
              "      <td>Smart water management; IoT-based water monito...</td>\n",
              "    </tr>\n",
              "    <tr>\n",
              "      <th>1</th>\n",
              "      <td>The Internet of Things Based Water Quality Mon...</td>\n",
              "      <td>Smart Systems and IoT: Innovations in Computing</td>\n",
              "      <td>NaN</td>\n",
              "      <td>NaN</td>\n",
              "      <td>NaN</td>\n",
              "      <td>10.1007/978-981-13-8406-6_39</td>\n",
              "      <td>Neha DalwadiMamta Padole</td>\n",
              "      <td>2020</td>\n",
              "      <td>http://link.springer.com/chapter/10.1007/978-9...</td>\n",
              "      <td>Chapter</td>\n",
              "      <td>The accessibility to high-quality water is the...</td>\n",
              "      <td>Water quality monitoring; Sensors; pH; Turbidi...</td>\n",
              "    </tr>\n",
              "    <tr>\n",
              "      <th>2</th>\n",
              "      <td>A Cost-Effective Real-Time Monitoring System f...</td>\n",
              "      <td>Science and Technologies for Smart Cities</td>\n",
              "      <td>NaN</td>\n",
              "      <td>NaN</td>\n",
              "      <td>NaN</td>\n",
              "      <td>10.1007/978-3-030-51005-3_26</td>\n",
              "      <td>Gonçalo MarquesRui Pitarma</td>\n",
              "      <td>2020</td>\n",
              "      <td>http://link.springer.com/chapter/10.1007/978-3...</td>\n",
              "      <td>Chapter</td>\n",
              "      <td>Water is a limited and essential resource to h...</td>\n",
              "      <td>Agriculture; Enhanced living environments; Int...</td>\n",
              "    </tr>\n",
              "    <tr>\n",
              "      <th>3</th>\n",
              "      <td>Internet of Things for Water Quality Monitorin...</td>\n",
              "      <td>Artificial Intelligence for Sustainable Develo...</td>\n",
              "      <td>NaN</td>\n",
              "      <td>NaN</td>\n",
              "      <td>NaN</td>\n",
              "      <td>10.1007/978-3-030-51920-9_13</td>\n",
              "      <td>Joshua O. IghaloAdewale George AdeniyiGoncalo ...</td>\n",
              "      <td>2021</td>\n",
              "      <td>http://link.springer.com/chapter/10.1007/978-3...</td>\n",
              "      <td>Chapter</td>\n",
              "      <td>The implementation of urbanisation and industr...</td>\n",
              "      <td>Actuators; Environment; Internet of things; Se...</td>\n",
              "    </tr>\n",
              "    <tr>\n",
              "      <th>4</th>\n",
              "      <td>Internet of Things Concept and Its Applications</td>\n",
              "      <td>Smart Sensors for Industrial Internet of Things</td>\n",
              "      <td>NaN</td>\n",
              "      <td>NaN</td>\n",
              "      <td>NaN</td>\n",
              "      <td>10.1007/978-3-030-52624-5_2</td>\n",
              "      <td>Prashant AhluwaliaNitin Mittal</td>\n",
              "      <td>2021</td>\n",
              "      <td>http://link.springer.com/chapter/10.1007/978-3...</td>\n",
              "      <td>Chapter</td>\n",
              "      <td>In the current era of digital communication an...</td>\n",
              "      <td>Internet of Things; Smart grid; Solid waste ma...</td>\n",
              "    </tr>\n",
              "    <tr>\n",
              "      <th>...</th>\n",
              "      <td>...</td>\n",
              "      <td>...</td>\n",
              "      <td>...</td>\n",
              "      <td>...</td>\n",
              "      <td>...</td>\n",
              "      <td>...</td>\n",
              "      <td>...</td>\n",
              "      <td>...</td>\n",
              "      <td>...</td>\n",
              "      <td>...</td>\n",
              "      <td>...</td>\n",
              "      <td>...</td>\n",
              "    </tr>\n",
              "    <tr>\n",
              "      <th>885</th>\n",
              "      <td>Recent developments in MnO2-based photocatalys...</td>\n",
              "      <td>Environmental Science and Pollution Research</td>\n",
              "      <td>NaN</td>\n",
              "      <td>27.0</td>\n",
              "      <td>6</td>\n",
              "      <td>10.1007/s11356-019-07568-8</td>\n",
              "      <td>Sin-Ling ChiamSwee-Yong PungFei-Yee Yeoh</td>\n",
              "      <td>2020</td>\n",
              "      <td>http://link.springer.com/article/10.1007/s1135...</td>\n",
              "      <td>Article</td>\n",
              "      <td>The textile industry consumes a large volume o...</td>\n",
              "      <td>Manganese dioxide (MnO2); Photocatalyst; Organ...</td>\n",
              "    </tr>\n",
              "    <tr>\n",
              "      <th>886</th>\n",
              "      <td>RETRACTED ARTICLE: Drought Prediction and Anal...</td>\n",
              "      <td>International Journal of Speech Technology</td>\n",
              "      <td>NaN</td>\n",
              "      <td>25.0</td>\n",
              "      <td>3</td>\n",
              "      <td>10.1007/s10772-021-09850-y</td>\n",
              "      <td>J. BalajeeM. A. Saleem Durai</td>\n",
              "      <td>2022</td>\n",
              "      <td>http://link.springer.com/article/10.1007/s1077...</td>\n",
              "      <td>Article</td>\n",
              "      <td>Understanding and researching water level chan...</td>\n",
              "      <td>Deep Learning; Landsat; Normalized Difference ...</td>\n",
              "    </tr>\n",
              "    <tr>\n",
              "      <th>887</th>\n",
              "      <td>Removal of Pb2+, Cr3+ and Hg2+ ions from aqueo...</td>\n",
              "      <td>Journal of Sol-Gel Science and Technology</td>\n",
              "      <td>NaN</td>\n",
              "      <td>103.0</td>\n",
              "      <td>1</td>\n",
              "      <td>10.1007/s10971-022-05830-z</td>\n",
              "      <td>A. F. P. Allwin Mabes RajSara KrajncMaja Bauma...</td>\n",
              "      <td>2022</td>\n",
              "      <td>http://link.springer.com/article/10.1007/s1097...</td>\n",
              "      <td>Article</td>\n",
              "      <td>Herein we present silica (SiO2) and amino-func...</td>\n",
              "      <td>Amino functionalized SiO2 particles; Adsorptio...</td>\n",
              "    </tr>\n",
              "    <tr>\n",
              "      <th>888</th>\n",
              "      <td>Development of a three-dimensional geological ...</td>\n",
              "      <td>Hydrogeology Journal</td>\n",
              "      <td>NaN</td>\n",
              "      <td>28.0</td>\n",
              "      <td>3</td>\n",
              "      <td>10.1007/s10040-020-02113-1</td>\n",
              "      <td>Richard FortierDavid-Roy BanvilleRichard Léves...</td>\n",
              "      <td>2020</td>\n",
              "      <td>http://link.springer.com/article/10.1007/s1004...</td>\n",
              "      <td>Article</td>\n",
              "      <td>Among the few positive impacts of climate warm...</td>\n",
              "      <td>Quaternary deposits; Permafrost; Groundwater e...</td>\n",
              "    </tr>\n",
              "    <tr>\n",
              "      <th>889</th>\n",
              "      <td>An analytical method for estimating leakage fr...</td>\n",
              "      <td>Hydrogeology Journal</td>\n",
              "      <td>NaN</td>\n",
              "      <td>27.0</td>\n",
              "      <td>1</td>\n",
              "      <td>10.1007/s10040-018-1853-8</td>\n",
              "      <td>Yong HuangHuiyang QiuZhi DouZhimin FuZhifang Zhou</td>\n",
              "      <td>2019</td>\n",
              "      <td>http://link.springer.com/article/10.1007/s1004...</td>\n",
              "      <td>Article</td>\n",
              "      <td>An analytical method has been proposed to esti...</td>\n",
              "      <td>Analytical solutions; Leakage; Hydraulic press...</td>\n",
              "    </tr>\n",
              "  </tbody>\n",
              "</table>\n",
              "<p>2928 rows × 12 columns</p>\n",
              "</div>\n",
              "      <button class=\"colab-df-convert\" onclick=\"convertToInteractive('df-2652d3e1-f400-4756-a87c-a2a1bb35a6f1')\"\n",
              "              title=\"Convert this dataframe to an interactive table.\"\n",
              "              style=\"display:none;\">\n",
              "        \n",
              "  <svg xmlns=\"http://www.w3.org/2000/svg\" height=\"24px\"viewBox=\"0 0 24 24\"\n",
              "       width=\"24px\">\n",
              "    <path d=\"M0 0h24v24H0V0z\" fill=\"none\"/>\n",
              "    <path d=\"M18.56 5.44l.94 2.06.94-2.06 2.06-.94-2.06-.94-.94-2.06-.94 2.06-2.06.94zm-11 1L8.5 8.5l.94-2.06 2.06-.94-2.06-.94L8.5 2.5l-.94 2.06-2.06.94zm10 10l.94 2.06.94-2.06 2.06-.94-2.06-.94-.94-2.06-.94 2.06-2.06.94z\"/><path d=\"M17.41 7.96l-1.37-1.37c-.4-.4-.92-.59-1.43-.59-.52 0-1.04.2-1.43.59L10.3 9.45l-7.72 7.72c-.78.78-.78 2.05 0 2.83L4 21.41c.39.39.9.59 1.41.59.51 0 1.02-.2 1.41-.59l7.78-7.78 2.81-2.81c.8-.78.8-2.07 0-2.86zM5.41 20L4 18.59l7.72-7.72 1.47 1.35L5.41 20z\"/>\n",
              "  </svg>\n",
              "      </button>\n",
              "      \n",
              "  <style>\n",
              "    .colab-df-container {\n",
              "      display:flex;\n",
              "      flex-wrap:wrap;\n",
              "      gap: 12px;\n",
              "    }\n",
              "\n",
              "    .colab-df-convert {\n",
              "      background-color: #E8F0FE;\n",
              "      border: none;\n",
              "      border-radius: 50%;\n",
              "      cursor: pointer;\n",
              "      display: none;\n",
              "      fill: #1967D2;\n",
              "      height: 32px;\n",
              "      padding: 0 0 0 0;\n",
              "      width: 32px;\n",
              "    }\n",
              "\n",
              "    .colab-df-convert:hover {\n",
              "      background-color: #E2EBFA;\n",
              "      box-shadow: 0px 1px 2px rgba(60, 64, 67, 0.3), 0px 1px 3px 1px rgba(60, 64, 67, 0.15);\n",
              "      fill: #174EA6;\n",
              "    }\n",
              "\n",
              "    [theme=dark] .colab-df-convert {\n",
              "      background-color: #3B4455;\n",
              "      fill: #D2E3FC;\n",
              "    }\n",
              "\n",
              "    [theme=dark] .colab-df-convert:hover {\n",
              "      background-color: #434B5C;\n",
              "      box-shadow: 0px 1px 3px 1px rgba(0, 0, 0, 0.15);\n",
              "      filter: drop-shadow(0px 1px 2px rgba(0, 0, 0, 0.3));\n",
              "      fill: #FFFFFF;\n",
              "    }\n",
              "  </style>\n",
              "\n",
              "      <script>\n",
              "        const buttonEl =\n",
              "          document.querySelector('#df-2652d3e1-f400-4756-a87c-a2a1bb35a6f1 button.colab-df-convert');\n",
              "        buttonEl.style.display =\n",
              "          google.colab.kernel.accessAllowed ? 'block' : 'none';\n",
              "\n",
              "        async function convertToInteractive(key) {\n",
              "          const element = document.querySelector('#df-2652d3e1-f400-4756-a87c-a2a1bb35a6f1');\n",
              "          const dataTable =\n",
              "            await google.colab.kernel.invokeFunction('convertToInteractive',\n",
              "                                                     [key], {});\n",
              "          if (!dataTable) return;\n",
              "\n",
              "          const docLinkHtml = 'Like what you see? Visit the ' +\n",
              "            '<a target=\"_blank\" href=https://colab.research.google.com/notebooks/data_table.ipynb>data table notebook</a>'\n",
              "            + ' to learn more about interactive tables.';\n",
              "          element.innerHTML = '';\n",
              "          dataTable['output_type'] = 'display_data';\n",
              "          await google.colab.output.renderOutput(dataTable, element);\n",
              "          const docLink = document.createElement('div');\n",
              "          docLink.innerHTML = docLinkHtml;\n",
              "          element.appendChild(docLink);\n",
              "        }\n",
              "      </script>\n",
              "    </div>\n",
              "  </div>\n",
              "  "
            ]
          },
          "metadata": {},
          "execution_count": 26
        }
      ]
    },
    {
      "cell_type": "markdown",
      "source": [
        "## Salva em CSV para não precisar realizar o processo de obter o Abstract novamente:"
      ],
      "metadata": {
        "id": "tSlnTR2dV5oi"
      }
    },
    {
      "cell_type": "code",
      "source": [
        "df_springer2.to_csv(f\"{drive_base}BibTeX/Springer Link/springer-com-abstract.csv\", index=False)"
      ],
      "metadata": {
        "id": "V-qBZwWXV4ud"
      },
      "execution_count": null,
      "outputs": []
    },
    {
      "cell_type": "code",
      "source": [
        "df_springer_abstract = pd.read_csv(f\"{drive_base}BibTeX/Springer Link/springer-com-abstract.csv\")"
      ],
      "metadata": {
        "id": "OkB98POTWOC7"
      },
      "execution_count": null,
      "outputs": []
    },
    {
      "cell_type": "code",
      "source": [
        "df_springer_abstract = df_springer2"
      ],
      "metadata": {
        "id": "ZbNG8kK7eJxU"
      },
      "execution_count": null,
      "outputs": []
    },
    {
      "cell_type": "markdown",
      "source": [
        "## Filtro no Abstract e Titulo"
      ],
      "metadata": {
        "id": "DxC4raxT2a7g"
      }
    },
    {
      "cell_type": "markdown",
      "source": [
        "(\"water quality\" AND (\"sensor\" OR \"Sensors\") AND ((\"low cost\" OR \"low-cost\") OR (\"Internet of things\" OR \"IoT\")))"
      ],
      "metadata": {
        "id": "H13nuu8T2t7C"
      }
    },
    {
      "cell_type": "code",
      "source": [
        "def filter_df(df):\n",
        "  df['title_abstract'] = df['Item Title'].map(str) + ' ' + df['Abstract'].map(str) + ' ' + df['Keywords'].map(str)\n",
        "\n",
        "\n",
        "#(\"water quality\" AND (\"sensor\" OR \"Sensors\") AND ((\"low cost\" OR \"low-cost\") OR (\"Internet of things\" OR \"IoT\")))\n",
        "\n",
        "  #alternative\n",
        "  # pattern = re.compile(r'(?=.*\\bwater quality\\b)(?=.*(?:(?=.*\\bsensor\\b)|(?=.*\\bSensors\\b)))(?=.*(?:(?=.*(?:(?=.*\\blow cost\\b)|(?=.*\\blow-cost\\b)))|(?=.*(?:(?=.*\\bInternet of things\\b)|(?=.*\\bIoT\\b)))))', re.IGNORECASE)\n",
        "  \n",
        "  mask_wq = df['title_abstract'].str.contains(\"water quality\") \n",
        "  mask_sensor = df['title_abstract'].str.contains(\"sensor|sensors\")\n",
        "  mask_lowcost = df['title_abstract'].str.contains(\"low cost|low-cost\")\n",
        "  mask_iot = df['title_abstract'].str.contains(\"Internet of things|IoT\")\n",
        "      \n",
        "  df[\"filtered\"] = mask_wq & mask_sensor & (mask_lowcost | mask_iot)\n",
        "\n",
        "  df.drop([\"title_abstract\"], axis=1, inplace=True)\n",
        "  return df"
      ],
      "metadata": {
        "id": "yWpqZrFw5bK3"
      },
      "execution_count": null,
      "outputs": []
    },
    {
      "cell_type": "code",
      "source": [
        "df_springer_filtered = filter_df(df_springer_abstract)\n"
      ],
      "metadata": {
        "id": "eC3h4f3K35no"
      },
      "execution_count": null,
      "outputs": []
    },
    {
      "cell_type": "code",
      "source": [
        "df_springer_filtered.groupby(['filtered']).size()"
      ],
      "metadata": {
        "colab": {
          "base_uri": "https://localhost:8080/"
        },
        "id": "cPNh983RH-2i",
        "outputId": "8f31435e-c61a-45c8-d3bc-16b0ce7b9950"
      },
      "execution_count": null,
      "outputs": [
        {
          "output_type": "execute_result",
          "data": {
            "text/plain": [
              "filtered\n",
              "False    2801\n",
              "True      127\n",
              "dtype: int64"
            ]
          },
          "metadata": {},
          "execution_count": 38
        }
      ]
    },
    {
      "cell_type": "code",
      "source": [
        "df_temp = df_springer_filtered[df_springer_filtered['filtered']==True]"
      ],
      "metadata": {
        "id": "mHajBl1qiinH"
      },
      "execution_count": null,
      "outputs": []
    },
    {
      "cell_type": "code",
      "source": [
        "df_temp.to_csv(f\"{drive_base}BibTeX/Springer Link/filtrado.csv\", sep=\",\")  "
      ],
      "metadata": {
        "id": "rA8AoHO5iMLt"
      },
      "execution_count": null,
      "outputs": []
    }
  ]
}